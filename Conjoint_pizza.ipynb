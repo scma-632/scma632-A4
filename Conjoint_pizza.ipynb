{
 "cells": [
  {
   "cell_type": "markdown",
   "id": "9a712bb5-5c54-447c-ba9a-5d93cb40800f",
   "metadata": {},
   "source": [
    "***Conjoint Analysis***"
   ]
  },
  {
   "cell_type": "markdown",
   "id": "5e00e6fa-5bba-4c67-ba5b-86f1e518632c",
   "metadata": {},
   "source": [
    "We want to understand which combination of attributes & levels of pizza is most and least preferred by customers while choosing or ordering pizza so that the marketing team can enter the market with the best combinations.\n",
    "\n",
    "The first step is to define the attributes and levels of the product.\n",
    "\n",
    "We will take eight different attributes, namely ‘brand,’ ‘price,’ ‘weight,’ ‘crust,’ ‘cheese,’ ‘size,’ ‘toppings,’ and ‘spicy,’ where brand, price, and weight have four levels each and rest of the attributes have two levels."
   ]
  },
  {
   "cell_type": "markdown",
   "id": "98bb2910-8728-45a0-a31e-bc65e5370fc1",
   "metadata": {},
   "source": [
    "![attribute info](https://av-eks-blogoptimized.s3.amazonaws.com/Capture0001-thumbnail_webp-600x300.png)"
   ]
  },
  {
   "cell_type": "markdown",
   "id": "63b6a92c-36dc-4c28-92e2-a5649948fefc",
   "metadata": {},
   "source": [
    "The next step is to select the number of combinations or profiles. Here, we have a total 4*4*4*2*2*2*2*2 number of combinations. But we will not use all combinations since the company may not be able to produce some combinations, and the customers may not prefer some combinations. So, we will go with the selected 16 combinations and their rankings from a survey. We will load the dataset in the proper format."
   ]
  },
  {
   "cell_type": "code",
   "execution_count": 14,
   "id": "50922431-8756-4294-9e0c-09f03bec0b1d",
   "metadata": {},
   "outputs": [],
   "source": [
    "import pandas as pd, numpy as np\n",
    "df=pd.read_csv('pizza_data.csv')"
   ]
  },
  {
   "cell_type": "markdown",
   "id": "95e45992-5823-4dbc-9a09-ca5e351cfc9a",
   "metadata": {},
   "source": [
    "We will now estimate each attribute level’s effects using Linear Regression Model."
   ]
  },
  {
   "cell_type": "code",
   "execution_count": 10,
   "id": "133fbadc-f817-422e-ab55-bd2bc08cfaf3",
   "metadata": {},
   "outputs": [
    {
     "name": "stdout",
     "output_type": "stream",
     "text": [
      "                            OLS Regression Results                            \n",
      "==============================================================================\n",
      "Dep. Variable:                ranking   R-squared:                       0.999\n",
      "Model:                            OLS   Adj. R-squared:                  0.989\n",
      "Method:                 Least Squares   F-statistic:                     97.07\n",
      "Date:                Sat, 06 Jul 2024   Prob (F-statistic):             0.0794\n",
      "Time:                        01:13:15   Log-Likelihood:                 10.568\n",
      "No. Observations:                  16   AIC:                             8.864\n",
      "Df Residuals:                       1   BIC:                             20.45\n",
      "Df Model:                          14                                         \n",
      "Covariance Type:            nonrobust                                         \n",
      "================================================================================================\n",
      "                                   coef    std err          t      P>|t|      [0.025      0.975]\n",
      "------------------------------------------------------------------------------------------------\n",
      "Intercept                        8.5000      0.125     68.000      0.009       6.912      10.088\n",
      "C(brand, Sum)[S.Dominos]       2.22e-15      0.217   1.03e-14      1.000      -2.751       2.751\n",
      "C(brand, Sum)[S.Onesta]       8.882e-15      0.217    4.1e-14      1.000      -2.751       2.751\n",
      "C(brand, Sum)[S.Oven Story]     -0.2500      0.217     -1.155      0.454      -3.001       2.501\n",
      "C(price, Sum)[S.$1.00]           0.7500      0.217      3.464      0.179      -2.001       3.501\n",
      "C(price, Sum)[S.$2.00]        2.109e-15      0.217   9.74e-15      1.000      -2.751       2.751\n",
      "C(price, Sum)[S.$3.00]       -4.885e-15      0.217  -2.26e-14      1.000      -2.751       2.751\n",
      "C(weight, Sum)[S.100g]           5.0000      0.217     23.094      0.028       2.249       7.751\n",
      "C(weight, Sum)[S.200g]           2.0000      0.217      9.238      0.069      -0.751       4.751\n",
      "C(weight, Sum)[S.300g]          -1.2500      0.217     -5.774      0.109      -4.001       1.501\n",
      "C(crust, Sum)[S.thick]           1.7500      0.125     14.000      0.045       0.162       3.338\n",
      "C(cheese, Sum)[S.Cheddar]       -0.2500      0.125     -2.000      0.295      -1.838       1.338\n",
      "C(size, Sum)[S.large]           -0.2500      0.125     -2.000      0.295      -1.838       1.338\n",
      "C(toppings, Sum)[S.mushroom]     1.1250      0.125      9.000      0.070      -0.463       2.713\n",
      "C(spicy, Sum)[S.extra]           0.7500      0.125      6.000      0.105      -0.838       2.338\n",
      "==============================================================================\n",
      "Omnibus:                       29.718   Durbin-Watson:                   2.000\n",
      "Prob(Omnibus):                  0.000   Jarque-Bera (JB):                2.667\n",
      "Skew:                           0.000   Prob(JB):                        0.264\n",
      "Kurtosis:                       1.000   Cond. No.                         2.00\n",
      "==============================================================================\n",
      "\n",
      "Notes:\n",
      "[1] Standard Errors assume that the covariance matrix of the errors is correctly specified.\n"
     ]
    },
    {
     "name": "stderr",
     "output_type": "stream",
     "text": [
      "C:\\Users\\Patil\\AppData\\Local\\Programs\\Python\\Python312\\Lib\\site-packages\\scipy\\stats\\_axis_nan_policy.py:418: UserWarning: `kurtosistest` p-value may be inaccurate with fewer than 20 observations; only n=16 observations were given.\n",
      "  return hypotest_fun_in(*args, **kwds)\n"
     ]
    }
   ],
   "source": [
    "import statsmodels.api as sm\n",
    "import statsmodels.formula.api as smf\n",
    "\n",
    "model='ranking ~ C(brand,Sum)+C(price,Sum)+C(weight,Sum)+C(crust,Sum)+C(cheese,Sum)+C(size,Sum)+C(toppings,Sum)+C(spicy,Sum)'\n",
    "model_fit=smf.ols(model,data=df).fit()\n",
    "print(model_fit.summary())"
   ]
  },
  {
   "cell_type": "markdown",
   "id": "b51f0c3d-8cbf-4f27-bade-7fdc96a8a5b1",
   "metadata": {},
   "source": [
    "We can analyze the model’s fitness using parameters like R-squared, p-values, etc. The coefficients of each attribute level define its effect on the overall choice model.\n",
    "\n",
    "Now, we will create the list of conjoint attributes."
   ]
  },
  {
   "cell_type": "code",
   "execution_count": 11,
   "id": "bf601b5e-64ed-4a32-b792-6eed8f353869",
   "metadata": {},
   "outputs": [],
   "source": [
    "conjoint_attributes = ['brand','price','weight','crust','cheese','size','toppings','spicy']"
   ]
  },
  {
   "cell_type": "markdown",
   "id": "27239010-d2b7-4af7-aa65-ff11ed416137",
   "metadata": {},
   "source": [
    "Before going ahead, we need to understand these conjoint analysis terminologies:\n",
    "\n",
    "Relative importance: It depicts which attributes are more or less important when purchasing. E.g., a Mobile Phone’s Relative importance could be Brand 30%, Price 30%, Size 20%, Battery Life 10%, and Color 10%.\n",
    "\n",
    "Part-Worths/Utility values: The amount of weight an attribute level carries with a respondent. These factors lead to a product’s overall value to consumers.\n",
    "\n",
    "Next, we will build part-worths information and calculate attribute-wise importance level."
   ]
  },
  {
   "cell_type": "code",
   "execution_count": 15,
   "id": "f9db88aa-39fa-4f24-8745-933fadc231a9",
   "metadata": {},
   "outputs": [
    {
     "name": "stdout",
     "output_type": "stream",
     "text": [
      "brand\n",
      "price\n",
      "weight\n",
      "crust\n",
      "cheese\n",
      "size\n",
      "toppings\n",
      "spicy\n",
      "-------------------------------------------------------------\n",
      "level name:\n",
      "[['Dominos', 'Onesta', 'Oven Story', 'Pizza hut'], ['$1.00', '$2.00', '$3.00', '$4.00'], ['100g', '200g', '300g', '400g'], ['thick', 'thin'], ['Cheddar', 'Mozzarella'], ['large', 'regular'], ['mushroom', 'paneer'], ['extra', 'normal']]\n",
      "npw with sum element:\n",
      "[0.7499999999999993, -0.7499999999999993]\n",
      "imp level:\n",
      "{'brand': np.int64(3), 'price': np.int64(0), 'weight': np.int64(0), 'crust': np.int64(0), 'cheese': np.int64(1), 'size': np.int64(1), 'toppings': np.int64(0), 'spicy': np.int64(0)}\n",
      "part worth:\n",
      "[[2.220446049250313e-15, 8.881784197001252e-15, -0.25000000000000827, 0.24999999999999717], [0.7500000000000013, 2.1094237467877974e-15, -4.884981308350689e-15, -0.7499999999999986], [5.000000000000002, 2.0000000000000018, -1.2500000000000004, -5.7500000000000036], [1.7499999999999996, -1.7499999999999996], [-0.2500000000000009, 0.2500000000000009], [-0.2500000000000018, 0.2500000000000018], [1.1249999999999991, -1.1249999999999991], [0.7499999999999993, -0.7499999999999993]]\n",
      "part_worth_range:\n",
      "[0.5000000000000054, 1.5, 10.750000000000005, 3.499999999999999, 0.5000000000000018, 0.5000000000000036, 2.2499999999999982, 1.4999999999999987]\n",
      "8\n",
      "important levels:\n",
      "{'brand': np.int64(3), 'price': np.int64(0), 'weight': np.int64(0), 'crust': np.int64(0), 'cheese': np.int64(1), 'size': np.int64(1), 'toppings': np.int64(0), 'spicy': np.int64(0)}\n"
     ]
    }
   ],
   "source": [
    "level_name = []\n",
    "part_worth = []\n",
    "part_worth_range = []\n",
    "important_levels = {}\n",
    "end = 1  # Initialize index for coefficient in params\n",
    "\n",
    "for item in conjoint_attributes:\n",
    "    nlevels = len(list(np.unique(df[item])))\n",
    "    level_name.append(list(np.unique(df[item])))\n",
    "    \n",
    "    begin = end\n",
    "    end = begin + nlevels -1\n",
    "    \n",
    "    new_part_worth = list(model_fit.params[begin:end])\n",
    "    new_part_worth.append((-1)*sum(new_part_worth))\n",
    "    important_levels[item] = np.argmax(new_part_worth)\n",
    "    part_worth.append(new_part_worth)\n",
    "    print(item)\n",
    "    #print(part_worth)\n",
    "    part_worth_range.append(max(new_part_worth) - min(new_part_worth))\n",
    "    # next iteration\n",
    "print(\"-------------------------------------------------------------\")\n",
    "print(\"level name:\")\n",
    "print(level_name)\n",
    "print(\"npw with sum element:\")\n",
    "print(new_part_worth)\n",
    "print(\"imp level:\")\n",
    "print(important_levels)\n",
    "print(\"part worth:\")\n",
    "print(part_worth)\n",
    "print(\"part_worth_range:\")\n",
    "print(part_worth_range)\n",
    "print(len(part_worth))\n",
    "print(\"important levels:\")\n",
    "print(important_levels)"
   ]
  },
  {
   "cell_type": "markdown",
   "id": "90a3064c-113f-463a-a3ec-4d9837543a6b",
   "metadata": {},
   "source": [
    "Now, we will calculate the importance of each attribute."
   ]
  },
  {
   "cell_type": "code",
   "execution_count": 16,
   "id": "d83ba72c-de0b-428f-8d00-67020f0570c2",
   "metadata": {},
   "outputs": [
    {
     "name": "stdout",
     "output_type": "stream",
     "text": [
      "[2.38, 7.14, 51.19, 16.67, 2.38, 2.38, 10.71, 7.14]\n"
     ]
    }
   ],
   "source": [
    "attribute_importance = []\n",
    "for i in part_worth_range:\n",
    "    #print(i)\n",
    "    attribute_importance.append(round(100*(i/sum(part_worth_range)),2))\n",
    "print(attribute_importance)"
   ]
  },
  {
   "cell_type": "markdown",
   "id": "2f9ea8f7-a098-4429-a968-75904e08bc6b",
   "metadata": {},
   "source": [
    "Now, we will calculate the part-worths of each attribute level."
   ]
  },
  {
   "cell_type": "code",
   "execution_count": 30,
   "id": "9c086ef5-df8b-4fce-8065-cbe91f18d8f1",
   "metadata": {},
   "outputs": [
    {
     "name": "stdout",
     "output_type": "stream",
     "text": [
      "Attribute : brand\n",
      "    Relative importance of attribute  2.38\n",
      "    Level wise part worths: \n",
      "0\n",
      "0\n",
      "          Dominos:2.220446049250313e-15\n",
      "0\n",
      "1\n",
      "          Onesta:8.881784197001252e-15\n",
      "0\n",
      "2\n",
      "          Oven Story:-0.25000000000000827\n",
      "0\n",
      "3\n",
      "          Pizza hut:0.24999999999999717\n",
      "Attribute : price\n",
      "    Relative importance of attribute  7.14\n",
      "    Level wise part worths: \n",
      "1\n",
      "0\n",
      "          $1.00:0.7500000000000013\n",
      "1\n",
      "1\n",
      "          $2.00:2.1094237467877974e-15\n",
      "1\n",
      "2\n",
      "          $3.00:-4.884981308350689e-15\n",
      "1\n",
      "3\n",
      "          $4.00:-0.7499999999999986\n",
      "Attribute : weight\n",
      "    Relative importance of attribute  51.19\n",
      "    Level wise part worths: \n",
      "2\n",
      "0\n",
      "          100g:5.000000000000002\n",
      "2\n",
      "1\n",
      "          200g:2.0000000000000018\n",
      "2\n",
      "2\n",
      "          300g:-1.2500000000000004\n",
      "2\n",
      "3\n",
      "          400g:-5.7500000000000036\n",
      "Attribute : crust\n",
      "    Relative importance of attribute  16.67\n",
      "    Level wise part worths: \n",
      "3\n",
      "0\n",
      "          thick:1.7499999999999996\n",
      "3\n",
      "1\n",
      "          thin:-1.7499999999999996\n",
      "Attribute : cheese\n",
      "    Relative importance of attribute  2.38\n",
      "    Level wise part worths: \n",
      "4\n",
      "0\n",
      "          Cheddar:-0.2500000000000009\n",
      "4\n",
      "1\n",
      "          Mozzarella:0.2500000000000009\n",
      "Attribute : size\n",
      "    Relative importance of attribute  2.38\n",
      "    Level wise part worths: \n",
      "5\n",
      "0\n",
      "          large:-0.2500000000000018\n",
      "5\n",
      "1\n",
      "          regular:0.2500000000000018\n",
      "Attribute : toppings\n",
      "    Relative importance of attribute  10.71\n",
      "    Level wise part worths: \n",
      "6\n",
      "0\n",
      "          mushroom:1.1249999999999991\n",
      "6\n",
      "1\n",
      "          paneer:-1.1249999999999991\n",
      "Attribute : spicy\n",
      "    Relative importance of attribute  7.14\n",
      "    Level wise part worths: \n",
      "7\n",
      "0\n",
      "          extra:0.7499999999999993\n",
      "7\n",
      "1\n",
      "          normal:-0.7499999999999993\n"
     ]
    },
    {
     "data": {
      "text/plain": [
       "{'Dominos': 2.220446049250313e-15,\n",
       " 'Onesta': 8.881784197001252e-15,\n",
       " 'Oven Story': -0.25000000000000827,\n",
       " 'Pizza hut': 0.24999999999999717,\n",
       " '$1.00': 0.7500000000000013,\n",
       " '$2.00': 2.1094237467877974e-15,\n",
       " '$3.00': -4.884981308350689e-15,\n",
       " '$4.00': -0.7499999999999986,\n",
       " '100g': 5.000000000000002,\n",
       " '200g': 2.0000000000000018,\n",
       " '300g': -1.2500000000000004,\n",
       " '400g': -5.7500000000000036,\n",
       " 'thick': 1.7499999999999996,\n",
       " 'thin': -1.7499999999999996,\n",
       " 'Cheddar': -0.2500000000000009,\n",
       " 'Mozzarella': 0.2500000000000009,\n",
       " 'large': -0.2500000000000018,\n",
       " 'regular': 0.2500000000000018,\n",
       " 'mushroom': 1.1249999999999991,\n",
       " 'paneer': -1.1249999999999991,\n",
       " 'extra': 0.7499999999999993,\n",
       " 'normal': -0.7499999999999993}"
      ]
     },
     "execution_count": 30,
     "metadata": {},
     "output_type": "execute_result"
    }
   ],
   "source": [
    "part_worth_dict={}\n",
    "attrib_level={}\n",
    "for item,i in zip(conjoint_attributes,range(0,len(conjoint_attributes))):\n",
    "    print(\"Attribute :\",item)\n",
    "    print(\"    Relative importance of attribute \",attribute_importance[i])\n",
    "    print(\"    Level wise part worths: \")\n",
    "    for j in range(0,len(level_name[i])):\n",
    "        print(i)\n",
    "        print(j)\n",
    "        print(\"          {}:{}\".format(level_name[i][j],part_worth[i][j]))\n",
    "        part_worth_dict[level_name[i][j]]=part_worth[i][j]\n",
    "        attrib_level[item]=(level_name[i])\n",
    "        #print(j)\n",
    "part_worth_dict"
   ]
  },
  {
   "cell_type": "markdown",
   "id": "88a6b115-49a9-4506-b6e1-3df86c4ce7b9",
   "metadata": {},
   "source": [
    "In the next step, we will plot the relative importance of attributes."
   ]
  },
  {
   "cell_type": "code",
   "execution_count": 31,
   "id": "f0ac1a33-5ea1-4e63-a67b-f74f7257e73a",
   "metadata": {},
   "outputs": [
    {
     "data": {
      "text/plain": [
       "Text(0, 0.5, 'Importance')"
      ]
     },
     "execution_count": 31,
     "metadata": {},
     "output_type": "execute_result"
    },
    {
     "data": {
      "image/png": "[encoded data removed]",
      "text/plain": [
       "<Figure size 1000x500 with 1 Axes>"
      ]
     },
     "metadata": {},
     "output_type": "display_data"
    }
   ],
   "source": [
    "import matplotlib.pyplot as plt\n",
    "import seaborn as sns\n",
    "plt.figure(figsize=(10,5))\n",
    "sns.barplot(x=conjoint_attributes,y=attribute_importance)\n",
    "plt.title('Relative importance of attributes')\n",
    "plt.xlabel('Attributes')\n",
    "plt.ylabel('Importance')"
   ]
  },
  {
   "cell_type": "markdown",
   "id": "6d4c3d88-64e6-4f32-b527-2a41fb67451a",
   "metadata": {},
   "source": [
    "We can see that weight is the attribute with the highest relative importance at 51%, followed by crust at 16% and toppings at 10%. Brand, cheese, and size are the least important attributes, each at 2.38%.\n",
    "\n",
    "Now, we will calculate the utility score for each profile."
   ]
  },
  {
   "cell_type": "code",
   "execution_count": 36,
   "id": "e870d586-d5a7-47c6-bc34-62a230dd602a",
   "metadata": {},
   "outputs": [
    {
     "data": {
      "text/plain": [
       "[2.6250000000000098,\n",
       " 3.374999999999992,\n",
       " 0.3750000000000149,\n",
       " -6.375000000000003,\n",
       " -0.3749999999999998,\n",
       " 4.374999999999999,\n",
       " -1.3749999999999962,\n",
       " -4.624999999999999,\n",
       " -3.625,\n",
       " 7.624999999999992,\n",
       " -5.374999999999997,\n",
       " -2.3750000000000053,\n",
       " 1.3749999999999927,\n",
       " 6.375000000000013,\n",
       " -7.625000000000013,\n",
       " 5.624999999999997]"
      ]
     },
     "execution_count": 36,
     "metadata": {},
     "output_type": "execute_result"
    }
   ],
   "source": [
    "utility = []\n",
    "for i in range(df.shape[0]):\n",
    "    score = part_worth_dict[df['brand'][i]]+part_worth_dict[df['price'][i]]+part_worth_dict[df['weight'][i]]+part_worth_dict[df['crust'][i]]+part_worth_dict[df['cheese'][i]]+part_worth_dict[df['size'][i]]+part_worth_dict[df['toppings'][i]]+part_worth_dict[df['spicy'][i]]\n",
    "    utility.append(score)\n",
    "    \n",
    "df['utility'] = utility\n",
    "utility"
   ]
  },
  {
   "cell_type": "markdown",
   "id": "3ccf8cc8-794f-4993-882f-e7fc3f039517",
   "metadata": {},
   "source": [
    "We can see that combination number 9 has the maximum utility, followed by combination numbers 13 and 5. Combination number 14 is the least desirable because of the most negative utility score.\n",
    "\n",
    "Now, we will find the combination with maximum utility."
   ]
  },
  {
   "cell_type": "code",
   "execution_count": 37,
   "id": "5e142b1a-e6a7-4aa0-88b5-a6837bc264ae",
   "metadata": {},
   "outputs": [
    {
     "name": "stdout",
     "output_type": "stream",
     "text": [
      "The profile that has the highest utility score : \n",
      " brand       Oven Story\n",
      "price            $4.00\n",
      "weight            100g\n",
      "crust            thick\n",
      "cheese      Mozzarella\n",
      "size             large\n",
      "toppings      mushroom\n",
      "spicy            extra\n",
      "ranking             16\n",
      "utility          7.625\n",
      "Name: 9, dtype: object\n"
     ]
    }
   ],
   "source": [
    "print(\"The profile that has the highest utility score :\",'\\n', df.iloc[np.argmax(utility)])"
   ]
  },
  {
   "cell_type": "markdown",
   "id": "8b0b5532-29c7-4e53-8320-e00d8e7141bc",
   "metadata": {},
   "source": [
    "Now, we will determine the levels being preferred in each attribute."
   ]
  },
  {
   "cell_type": "code",
   "execution_count": 38,
   "id": "ea928881-8e06-4242-bfe2-e5cdd14b65e9",
   "metadata": {},
   "outputs": [
    {
     "name": "stdout",
     "output_type": "stream",
     "text": [
      "Preferred level in brand is :: Pizza hut\n",
      "Preferred level in price is :: $1.00\n",
      "Preferred level in weight is :: 100g\n",
      "Preferred level in crust is :: thick\n",
      "Preferred level in cheese is :: Mozzarella\n",
      "Preferred level in size is :: regular\n",
      "Preferred level in toppings is :: mushroom\n",
      "Preferred level in spicy is :: extra\n"
     ]
    }
   ],
   "source": [
    "for i,j in zip(attrib_level.keys(),range(0,len(conjoint_attributes))):\n",
    "    #print(i)\n",
    "    #level_name[j]\n",
    "    print(\"Preferred level in {} is :: {}\".format(i,level_name[j][important_levels[i]]))"
   ]
  }
 ],
 "metadata": {
  "kernelspec": {
   "display_name": "Python 3 (ipykernel)",
   "language": "python",
   "name": "python3"
  },
  "language_info": {
   "codemirror_mode": {
    "name": "ipython",
    "version": 3
   },
   "file_extension": ".py",
   "mimetype": "text/x-python",
   "name": "python",
   "nbconvert_exporter": "python",
   "pygments_lexer": "ipython3",
   "version": "3.12.4"
  }
 },
 "nbformat": 4,
 "nbformat_minor": 5
}
